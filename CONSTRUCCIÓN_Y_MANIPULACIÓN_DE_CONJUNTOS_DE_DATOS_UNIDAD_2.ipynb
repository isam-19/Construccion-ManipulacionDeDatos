{
  "cells": [
    {
      "cell_type": "markdown",
      "metadata": {
        "id": "view-in-github",
        "colab_type": "text"
      },
      "source": [
        "<a href=\"https://colab.research.google.com/github/isam-19/Construccion-ManipulacionDeDatos/blob/main/CONSTRUCCI%C3%93N_Y_MANIPULACI%C3%93N_DE_CONJUNTOS_DE_DATOS_UNIDAD_2.ipynb\" target=\"_parent\"><img src=\"https://colab.research.google.com/assets/colab-badge.svg\" alt=\"Open In Colab\"/></a>"
      ]
    },
    {
      "cell_type": "markdown",
      "source": [
        "# APRENDE Y MEJORA CONSTRUCCIÓN Y MANIPULACIÓN DE CONJUNTOS DE DATOS UNIDAD 1\n",
        "# María Isabel Marín Henao\n",
        "\n",
        "\n"
      ],
      "metadata": {
        "id": "mTGYWlGC8VQe"
      }
    },
    {
      "cell_type": "code",
      "source": [
        "\n",
        "# 1. Preparación del entorno\n",
        "import pandas as pd\n",
        "import numpy as np\n",
        "\n",
        "# 2. Carga del Dataset\n",
        "df = pd.read_csv(\"activity2_dataset.csv\")\n",
        "\n",
        "# Mostrar las primeras filas\n",
        "print(\"Vista previa del dataset original:\")\n",
        "print(df.head())\n",
        "\n",
        "# 3. Revisión y corrección de columnas numéricas con posibles errores\n",
        "cols_numericas = ['edad', 'ingresos', 'numero de hijos']\n",
        "\n",
        "# Asegurarse de que las columnas sean numéricas y limpiar valores negativos\n",
        "for col in cols_numericas:\n",
        "    # Convertimos todo a números (lo que no se puede convertir se vuelve NaN)\n",
        "    df[col] = pd.to_numeric(df[col], errors='coerce')\n",
        "    # Reemplazamos negativos por NaN\n",
        "    df[col] = df[col].apply(lambda x: np.nan if pd.notnull(x) and x < 0 else x)\n",
        "\n",
        "# 4. Imputación de valores faltantes usando la mediana\n",
        "for col in cols_numericas:\n",
        "    mediana = df[col].median()\n",
        "    df[col].fillna(mediana, inplace=True)\n",
        "\n",
        "# 5. Limpieza y estandarización de la columna 'estado_civil'\n",
        "\n",
        "# Mostrar valores únicos antes\n",
        "print(\"\\nValores únicos en 'estado_civil' antes de limpiar:\")\n",
        "print(df['estado civil'].unique())\n",
        "\n",
        "# Unificar escritura\n",
        "mapa_estado_civil = {\n",
        "    'Soltero': 'Soltero',\n",
        "    'soltero': 'Soltero',\n",
        "    'Casado': 'Casado',\n",
        "    'casado': 'Casado',\n",
        "    'Divorciado': 'Divorciado',\n",
        "    'divorciado': 'Divorciado',\n",
        "    'viudo': 'Viudo',\n",
        "    'Viudo': 'Viudo'\n",
        "}\n",
        "\n",
        "# Aplicar mapeo\n",
        "df['estado civil'] = df['estado civil'].map(mapa_estado_civil)\n",
        "\n",
        "# Mostrar valores únicos después\n",
        "print(\"\\nValores únicos en 'estado civil' después de estandarizar:\")\n",
        "print(df['estado civil'].unique())\n",
        "\n",
        "# 6. Ajuste de tipos de datos\n",
        "df['edad'] = df['edad'].astype(int)\n",
        "df['numero de hijos'] = df['numero de hijos'].astype(int)\n",
        "df['ingresos'] = df['ingresos'].astype(float)\n",
        "df['estado civil'] = df['estado civil'].astype('category')\n",
        "\n",
        "# 7. Revisión final\n",
        "print(\"\\nVista previa del dataset limpio:\")\n",
        "print(df.head())\n",
        "\n",
        "print(\"\\nEstructura del dataset:\")\n",
        "print(df.info())\n",
        "\n",
        "# 8. Exportar el dataset limpio\n",
        "df.to_csv(\"activity2_dataset_limpio.csv\", index=False)\n",
        "print(\"\\n Dataset limpio guardado como 'activity2_dataset_limpio.csv'\")\n",
        "\n"
      ],
      "metadata": {
        "id": "ffqg3kzAAwrs",
        "outputId": "b13aad41-1345-499f-ff39-c28720cff288",
        "colab": {
          "base_uri": "https://localhost:8080/"
        }
      },
      "execution_count": 5,
      "outputs": [
        {
          "output_type": "stream",
          "name": "stdout",
          "text": [
            "Vista previa del dataset original:\n",
            "   edad sexo estado civil  numero de hijos  ingresos  estrato social\n",
            "0  25.0    M      Soltero              0.0    3000.0             3.0\n",
            "1  34.0    F       Casado              2.0    5000.0             2.0\n",
            "2   NaN    f          NaN              1.0    4500.0             NaN\n",
            "3  29.0    M      soltero              3.0       NaN             1.0\n",
            "4  45.0    m   divorciado              NaN    3200.0             4.0\n",
            "\n",
            "Valores únicos en 'estado_civil' antes de limpiar:\n",
            "['Soltero' 'Casado' nan 'soltero' 'divorciado' 'casado']\n",
            "\n",
            "Valores únicos en 'estado civil' después de estandarizar:\n",
            "['Soltero' 'Casado' nan 'Divorciado']\n",
            "\n",
            "Vista previa del dataset limpio:\n",
            "   edad sexo estado civil  numero de hijos  ingresos  estrato social\n",
            "0    25    M      Soltero                0    3000.0             3.0\n",
            "1    34    F       Casado                2    5000.0             2.0\n",
            "2    32    f          NaN                1    4500.0             NaN\n",
            "3    29    M      Soltero                3    4000.0             1.0\n",
            "4    45    m   Divorciado                1    3200.0             4.0\n",
            "\n",
            "Estructura del dataset:\n",
            "<class 'pandas.core.frame.DataFrame'>\n",
            "RangeIndex: 10 entries, 0 to 9\n",
            "Data columns (total 6 columns):\n",
            " #   Column           Non-Null Count  Dtype   \n",
            "---  ------           --------------  -----   \n",
            " 0   edad             10 non-null     int64   \n",
            " 1   sexo             9 non-null      object  \n",
            " 2   estado civil     8 non-null      category\n",
            " 3   numero de hijos  10 non-null     int64   \n",
            " 4   ingresos         10 non-null     float64 \n",
            " 5   estrato social   8 non-null      float64 \n",
            "dtypes: category(1), float64(2), int64(2), object(1)\n",
            "memory usage: 674.0+ bytes\n",
            "None\n",
            "\n",
            "✅ Dataset limpio guardado como 'activity2_dataset_limpio.csv'\n"
          ]
        },
        {
          "output_type": "stream",
          "name": "stderr",
          "text": [
            "<ipython-input-5-09b25b91df5c>:27: FutureWarning: A value is trying to be set on a copy of a DataFrame or Series through chained assignment using an inplace method.\n",
            "The behavior will change in pandas 3.0. This inplace method will never work because the intermediate object on which we are setting values always behaves as a copy.\n",
            "\n",
            "For example, when doing 'df[col].method(value, inplace=True)', try using 'df.method({col: value}, inplace=True)' or df[col] = df[col].method(value) instead, to perform the operation inplace on the original object.\n",
            "\n",
            "\n",
            "  df[col].fillna(mediana, inplace=True)\n"
          ]
        }
      ]
    },
    {
      "cell_type": "markdown",
      "source": [],
      "metadata": {
        "id": "SKBtR1QY8Ts5"
      }
    },
    {
      "cell_type": "markdown",
      "source": [
        "# Sección nueva"
      ],
      "metadata": {
        "id": "YoQe6YwyBJQK"
      }
    }
  ],
  "metadata": {
    "colab": {
      "name": "Te damos la bienvenida a Colab",
      "provenance": [],
      "include_colab_link": true
    },
    "kernelspec": {
      "display_name": "Python 3",
      "name": "python3"
    }
  },
  "nbformat": 4,
  "nbformat_minor": 0
}
